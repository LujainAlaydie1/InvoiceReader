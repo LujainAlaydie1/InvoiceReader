{
 "cells": [
  {
   "cell_type": "code",
   "execution_count": 1,
   "metadata": {},
   "outputs": [],
   "source": [
    "import pdfplumber\n",
    "import csv\n",
    "from tkinter import *\n",
    "from tkinter import filedialog\n",
    "from tkinter import messagebox\n",
    "from pdfminer.pdfinterp import PDFResourceManager, PDFPageInterpreter\n",
    "from pdfminer.layout import LAParams\n",
    "from pdfminer.converter import TextConverter\n",
    "from io import StringIO\n",
    "from pdfminer.pdfpage import PDFPage"
   ]
  },
  {
   "cell_type": "code",
   "execution_count": 2,
   "metadata": {},
   "outputs": [],
   "source": [
    "#I used PDFMiner Here to extract data from PDF in Columns to be able to extract the Invoice Number, Invoice Date correctly\n",
    "def get_pdf_file_content(path_to_pdf):\n",
    "    resource_manager = PDFResourceManager(caching=True)\n",
    "    out_text = StringIO()\n",
    "    codec = 'utf-8'\n",
    "    laParams = LAParams()\n",
    "    text_converter = TextConverter(resource_manager, out_text, laparams=laParams)\n",
    "    fp = open(path_to_pdf, 'rb')\n",
    "    interpreter = PDFPageInterpreter(resource_manager, text_converter)\n",
    "    for page in PDFPage.get_pages(fp, pagenos=set(), maxpages=0, password=\"\", caching=True, check_extractable=True):\n",
    "        interpreter.process_page(page)\n",
    "    text = out_text.getvalue()\n",
    "    fp.close()\n",
    "    text_converter.close()\n",
    "    out_text.close()\n",
    "    return text"
   ]
  },
  {
   "cell_type": "code",
   "execution_count": 3,
   "metadata": {},
   "outputs": [],
   "source": [
    "#I used PDFPlumber here to extract the rest of the data from the pdf, PDFPlumber extracts text from PDF by lines\n",
    "def extract(path_pdf):\n",
    "    with pdfplumber.open(path_pdf) as pdf:\n",
    "        page = pdf.pages[0]\n",
    "        text = page.extract_text()\n",
    "        return text"
   ]
  },
  {
   "cell_type": "code",
   "execution_count": 4,
   "metadata": {},
   "outputs": [],
   "source": [
    "def findInvoiceNum(text):\n",
    "    text = text.split(\"\\n\")\n",
    "    counter = 0\n",
    "    for row in text:\n",
    "        if \"Invoice Number\" in row:\n",
    "            invIndx = counter + 2\n",
    "        counter += 1\n",
    "\n",
    "    invNum = text[invIndx]\n",
    "    return(invNum)"
   ]
  },
  {
   "cell_type": "code",
   "execution_count": 5,
   "metadata": {},
   "outputs": [],
   "source": [
    "def findInvoiceDate(text):\n",
    "    text = text.split(\"\\n\")\n",
    "    counter = 0\n",
    "    for row in text:\n",
    "        if \"Invoice Date\" in row:\n",
    "            invIndx = counter + 2\n",
    "        counter += 1     \n",
    "    if text[invIndx] !=  \"\":\n",
    "        date = text[invIndx]\n",
    "    else:\n",
    "        invIndx -= 1 \n",
    "        date = text[invIndx]\n",
    "    return date "
   ]
  },
  {
   "cell_type": "code",
   "execution_count": 6,
   "metadata": {},
   "outputs": [],
   "source": [
    "def findTotal(text):\n",
    "    for row in text.split('\\n'):\n",
    "        if row.startswith('Subtotal'):\n",
    "            total = row.split()[-1]\n",
    "            return total"
   ]
  },
  {
   "cell_type": "code",
   "execution_count": 7,
   "metadata": {},
   "outputs": [],
   "source": [
    "def findTax(text):\n",
    "    for row in text.split('\\n'):\n",
    "        if row.startswith('TOTAL TAX'):\n",
    "            tax = row.split()[-1]\n",
    "            return tax\n",
    "\n",
    "        \n"
   ]
  },
  {
   "cell_type": "code",
   "execution_count": 8,
   "metadata": {},
   "outputs": [],
   "source": [
    "def findTotalAfterTax(text):\n",
    "    for row in text.split('\\n'):\n",
    "        if \"Including VAT\" in row:\n",
    "            total = row.split()[-1]\n",
    "            return total\n",
    "\n",
    "        elif \"TOTALSAR\" in row:\n",
    "            total = row.split()[-1]\n",
    "            return total\n",
    "                \n"
   ]
  },
  {
   "cell_type": "code",
   "execution_count": 9,
   "metadata": {},
   "outputs": [],
   "source": [
    "#This function runs all the codes Necessary \n",
    "def pdfProcessing():\n",
    "    #variables\n",
    "    InvList = []\n",
    "    fields = [\"Invoice Number\", \"Invoice Date\", \"Subtotal Amount\", \"Tax Amount\", \"Total After Tax\"]\n",
    "    files = list(filedialog.askopenfilenames(filetypes=[('PDFS','*.pdf')]))\n",
    "    filename = \"Invoices Data.csv\"\n",
    "    \n",
    "    #loop through set of files uploaded\n",
    "    if files is not None:\n",
    "        for file in files:\n",
    "            #here specific file name\n",
    "            fileLink = file\n",
    "            #processPDF\n",
    "            invTxt = (get_pdf_file_content(fileLink))\n",
    "            text = extract(fileLink)\n",
    "            #extract info\n",
    "            InvoiceNum = findInvoiceNum(invTxt)\n",
    "            invoiceDate = findInvoiceDate(invTxt)\n",
    "            total = findTotal(text)\n",
    "            tax = findTax(text)\n",
    "            TotalAfterTax = findTotalAfterTax(text)\n",
    "            #write into some list\n",
    "            InvList.append([InvoiceNum,invoiceDate,total, tax,TotalAfterTax])\n",
    "        \n",
    "        #creating and saving into a csv file\n",
    "        with open(filename, 'w', encoding='UTF8', newline='') as f:\n",
    "            writer = csv.writer(f)\n",
    "            # write the header\n",
    "            writer.writerow(fields)\n",
    "            # write multiple rows \n",
    "            writer.writerows(InvList)\n",
    "        messagebox.showinfo('Processing Complete', 'Invoice Extraction Complete!')\n"
   ]
  },
  {
   "cell_type": "code",
   "execution_count": 10,
   "metadata": {},
   "outputs": [],
   "source": [
    "def main():\n",
    "    global main, labelFrame\n",
    "    #creating a window\n",
    "    main = Tk()\n",
    "    main.title(\"Invoice Recognition System\")\n",
    "    main.minsize(width=400,height=400)\n",
    "    main.geometry(\"800x500\")\n",
    "\n",
    "    #background colors\n",
    "    Canvas1 = Canvas(main)\n",
    "    Canvas1.config(bg=\"#4983C4\")\n",
    "    Canvas1.pack(expand=True,fill=BOTH)\n",
    "\n",
    "    #frames and labels\n",
    "    headingFrame1 = Frame(main,bg=\"#123A5F\",bd=5)\n",
    "    headingFrame1.place(relx=0.2,rely=0.09,relwidth=0.6,relheight=0.20)\n",
    "    \n",
    "    headingLabel = Label(headingFrame1, text=\"Welcome! \\n Please upload your invoices for information detection! \\n Please note only PDFs allowed!\", bg='white',\n",
    "                         fg='black', font=('Times',20))\n",
    "    headingLabel.place(relx=0,rely=0, relwidth=1, relheight=1)\n",
    " \n",
    "    labelFrame = Frame(main, bg='#4983C4')\n",
    "    labelFrame.place(relx=0.1, rely=0.3, relwidth=0.8, relheight=0.5)\n",
    "    \n",
    "    #buttons\n",
    "    btn1 = Button(labelFrame,text=\"Upload Invoices\",bg='black', fg='gray', command=pdfProcessing)\n",
    "    btn1.place(relx=0.5, rely=0.5, anchor=CENTER, relwidth =0.5, relheight = 0.2)\n",
    "  \n",
    "    \n",
    "    mainloop()\n",
    "    \n",
    "main()\n"
   ]
  },
  {
   "cell_type": "code",
   "execution_count": null,
   "metadata": {},
   "outputs": [],
   "source": []
  }
 ],
 "metadata": {
  "kernelspec": {
   "display_name": "Python 3 (ipykernel)",
   "language": "python",
   "name": "python3"
  },
  "language_info": {
   "codemirror_mode": {
    "name": "ipython",
    "version": 3
   },
   "file_extension": ".py",
   "mimetype": "text/x-python",
   "name": "python",
   "nbconvert_exporter": "python",
   "pygments_lexer": "ipython3",
   "version": "3.9.13"
  }
 },
 "nbformat": 4,
 "nbformat_minor": 4
}
